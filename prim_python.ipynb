{
 "cells": [
  {
   "cell_type": "markdown",
   "metadata": {
    "toc": true
   },
   "source": [
    "<h1>Table of Contents<span class=\"tocSkip\"></span></h1>\n",
    "<div class=\"toc\" style=\"margin-top: 1em;\"><ul class=\"toc-item\"><li><ul class=\"toc-item\"><li><ul class=\"toc-item\"><li><ul class=\"toc-item\"><li><span><a href=\"#def-prim(df,output,variable_names,population=0.25,peeling=0.05,pasting=0.001):\" data-toc-modified-id=\"def-prim(df,output,variable_names,population=0.25,peeling=0.05,pasting=0.001):-0.0.0.1\"><span class=\"toc-item-num\">0.0.0.1&nbsp;&nbsp;</span>def prim(df,output,variable_names,population=0.25,peeling=0.05,pasting=0.001):</a></span></li></ul></li></ul></li><li><span><a href=\"#essai-git\" data-toc-modified-id=\"essai-git-0.1\"><span class=\"toc-item-num\">0.1&nbsp;&nbsp;</span>essai git</a></span></li></ul></li></ul></div>"
   ]
  },
  {
   "cell_type": "code",
   "execution_count": null,
   "metadata": {
    "collapsed": true
   },
   "outputs": [],
   "source": [
    "# prim in python"
   ]
  },
  {
   "cell_type": "code",
   "execution_count": 179,
   "metadata": {
    "collapsed": true
   },
   "outputs": [],
   "source": [
    "import numpy as np\n",
    "import pandas as pd\n",
    "import matplotlib.pyplot as plt\n",
    "%matplotlib inline "
   ]
  },
  {
   "cell_type": "code",
   "execution_count": 180,
   "metadata": {},
   "outputs": [],
   "source": [
    "data=pd.read_csv(\"dataquantmetry.csv\",sep=\",\",encoding=\"ISO-8859-1\")\n",
    "        "
   ]
  },
  {
   "cell_type": "code",
   "execution_count": 181,
   "metadata": {},
   "outputs": [],
   "source": [
    "data.columns.tolist();"
   ]
  },
  {
   "cell_type": "code",
   "execution_count": 70,
   "metadata": {},
   "outputs": [
    {
     "data": {
      "text/html": [
       "<div>\n",
       "<table border=\"1\" class=\"dataframe\">\n",
       "  <thead>\n",
       "    <tr style=\"text-align: right;\">\n",
       "      <th></th>\n",
       "      <th>Nº Hoja de recogida</th>\n",
       "      <th>X69_Opérateur</th>\n",
       "      <th>X52_fecha hora moldeo</th>\n",
       "      <th>X55_Nº de huella</th>\n",
       "      <th>X58_Humedad en tolva</th>\n",
       "      <th>X4_Velocidad de inyección</th>\n",
       "      <th>X16_Postpresión</th>\n",
       "      <th>X22'_Fecha fabricación mezcla</th>\n",
       "      <th>X25_CP : Carga a la rotura (Mpa) &gt; 8.5</th>\n",
       "      <th>X26_CP : Alargamiento a la rotura (%) &gt;350</th>\n",
       "      <th>...</th>\n",
       "      <th>X72_Temperarura agua H31x</th>\n",
       "      <th>X73_Temperarura agua H32x</th>\n",
       "      <th>Température eau 1</th>\n",
       "      <th>Température eau 2</th>\n",
       "      <th>lot de mélanges</th>\n",
       "      <th>test slabs</th>\n",
       "      <th>temps entre la fab et la prod</th>\n",
       "      <th>nb jrs entre la fab et la moulage</th>\n",
       "      <th>PostPression binaire</th>\n",
       "      <th>Jour moulage</th>\n",
       "    </tr>\n",
       "  </thead>\n",
       "  <tbody>\n",
       "    <tr>\n",
       "      <th>0</th>\n",
       "      <td>25</td>\n",
       "      <td>Fco Nevado</td>\n",
       "      <td>11/04/2012 05:12</td>\n",
       "      <td>3</td>\n",
       "      <td>0.04</td>\n",
       "      <td>179.4</td>\n",
       "      <td>95.0</td>\n",
       "      <td>40976</td>\n",
       "      <td>8.8</td>\n",
       "      <td>465.0</td>\n",
       "      <td>...</td>\n",
       "      <td>33.2</td>\n",
       "      <td>37.6</td>\n",
       "      <td>33.2</td>\n",
       "      <td>37.6</td>\n",
       "      <td>1</td>\n",
       "      <td>1</td>\n",
       "      <td>33.682639</td>\n",
       "      <td>33.182639</td>\n",
       "      <td>95</td>\n",
       "      <td>3</td>\n",
       "    </tr>\n",
       "    <tr>\n",
       "      <th>1</th>\n",
       "      <td>25</td>\n",
       "      <td>Fco Nevado</td>\n",
       "      <td>11/04/2012 05:12</td>\n",
       "      <td>4</td>\n",
       "      <td>0.04</td>\n",
       "      <td>179.4</td>\n",
       "      <td>95.0</td>\n",
       "      <td>40976</td>\n",
       "      <td>8.8</td>\n",
       "      <td>465.0</td>\n",
       "      <td>...</td>\n",
       "      <td>33.2</td>\n",
       "      <td>37.6</td>\n",
       "      <td>37.6</td>\n",
       "      <td>33.2</td>\n",
       "      <td>1</td>\n",
       "      <td>1</td>\n",
       "      <td>33.682639</td>\n",
       "      <td>33.182639</td>\n",
       "      <td>95</td>\n",
       "      <td>3</td>\n",
       "    </tr>\n",
       "    <tr>\n",
       "      <th>2</th>\n",
       "      <td>29</td>\n",
       "      <td>J. Luis Cabeza</td>\n",
       "      <td>11/04/2012 13:24</td>\n",
       "      <td>3</td>\n",
       "      <td>0.02</td>\n",
       "      <td>177.0</td>\n",
       "      <td>95.1</td>\n",
       "      <td>40976</td>\n",
       "      <td>8.8</td>\n",
       "      <td>465.0</td>\n",
       "      <td>...</td>\n",
       "      <td>33.6</td>\n",
       "      <td>38.0</td>\n",
       "      <td>33.6</td>\n",
       "      <td>38.0</td>\n",
       "      <td>1</td>\n",
       "      <td>1</td>\n",
       "      <td>34.024306</td>\n",
       "      <td>33.524306</td>\n",
       "      <td>95</td>\n",
       "      <td>3</td>\n",
       "    </tr>\n",
       "    <tr>\n",
       "      <th>3</th>\n",
       "      <td>29</td>\n",
       "      <td>J. Luis Cabeza</td>\n",
       "      <td>11/04/2012 13:24</td>\n",
       "      <td>4</td>\n",
       "      <td>0.02</td>\n",
       "      <td>177.0</td>\n",
       "      <td>95.1</td>\n",
       "      <td>40976</td>\n",
       "      <td>8.8</td>\n",
       "      <td>465.0</td>\n",
       "      <td>...</td>\n",
       "      <td>33.6</td>\n",
       "      <td>38.0</td>\n",
       "      <td>38.0</td>\n",
       "      <td>33.6</td>\n",
       "      <td>1</td>\n",
       "      <td>1</td>\n",
       "      <td>34.024306</td>\n",
       "      <td>33.524306</td>\n",
       "      <td>95</td>\n",
       "      <td>3</td>\n",
       "    </tr>\n",
       "  </tbody>\n",
       "</table>\n",
       "<p>4 rows × 46 columns</p>\n",
       "</div>"
      ],
      "text/plain": [
       "   Nº Hoja de recogida   X69_Opérateur X52_fecha hora moldeo  \\\n",
       "0                   25      Fco Nevado      11/04/2012 05:12   \n",
       "1                   25      Fco Nevado      11/04/2012 05:12   \n",
       "2                   29  J. Luis Cabeza      11/04/2012 13:24   \n",
       "3                   29  J. Luis Cabeza      11/04/2012 13:24   \n",
       "\n",
       "   X55_Nº de huella  X58_Humedad en tolva  X4_Velocidad de inyección  \\\n",
       "0                 3                  0.04                      179.4   \n",
       "1                 4                  0.04                      179.4   \n",
       "2                 3                  0.02                      177.0   \n",
       "3                 4                  0.02                      177.0   \n",
       "\n",
       "   X16_Postpresión  X22'_Fecha fabricación mezcla  \\\n",
       "0             95.0                          40976   \n",
       "1             95.0                          40976   \n",
       "2             95.1                          40976   \n",
       "3             95.1                          40976   \n",
       "\n",
       "   X25_CP : Carga a la rotura (Mpa) > 8.5  \\\n",
       "0                                     8.8   \n",
       "1                                     8.8   \n",
       "2                                     8.8   \n",
       "3                                     8.8   \n",
       "\n",
       "   X26_CP : Alargamiento a la rotura (%) >350      ...       \\\n",
       "0                                       465.0      ...        \n",
       "1                                       465.0      ...        \n",
       "2                                       465.0      ...        \n",
       "3                                       465.0      ...        \n",
       "\n",
       "   X72_Temperarura agua H31x  X73_Temperarura agua H32x  Température eau 1  \\\n",
       "0                       33.2                       37.6               33.2   \n",
       "1                       33.2                       37.6               37.6   \n",
       "2                       33.6                       38.0               33.6   \n",
       "3                       33.6                       38.0               38.0   \n",
       "\n",
       "   Température eau 2  lot de mélanges  test slabs  \\\n",
       "0               37.6                1           1   \n",
       "1               33.2                1           1   \n",
       "2               38.0                1           1   \n",
       "3               33.6                1           1   \n",
       "\n",
       "   temps entre la fab et la prod  nb jrs entre la fab et la moulage  \\\n",
       "0                      33.682639                          33.182639   \n",
       "1                      33.682639                          33.182639   \n",
       "2                      34.024306                          33.524306   \n",
       "3                      34.024306                          33.524306   \n",
       "\n",
       "   PostPression binaire  Jour moulage  \n",
       "0                    95             3  \n",
       "1                    95             3  \n",
       "2                    95             3  \n",
       "3                    95             3  \n",
       "\n",
       "[4 rows x 46 columns]"
      ]
     },
     "execution_count": 70,
     "metadata": {},
     "output_type": "execute_result"
    }
   ],
   "source": [
    "data.head(4)"
   ]
  },
  {
   "cell_type": "markdown",
   "metadata": {
    "collapsed": true
   },
   "source": [
    "#### def prim(df,output,variable_names,population=0.25,peeling=0.05,pasting=0.001):\n",
    "    X=df[variable_names]\n",
    "    new_mean=df[output].mean()\n",
    "    number_points=df.shape[0]\n",
    "    \n",
    "    \n",
    "    while population<df.shape[0]/number_points:\n",
    "        box_average=[]\n",
    "        for var in list(X):\n",
    "            box_average.append(df[df[var]<(1-peeling)*(df[var].max())][output].mean())\n",
    "            i=box_average.index(max(box_average))\n",
    "            which_variable=list(X)[i]\n",
    "            \n",
    "            if df[output].mean()<df[df[which_variable]<(1-peeling)*(df[which_variable].max())][output].mean(): \n",
    "                df=df[df[which_variable]<(1-peeling)*(df[which_variable].max())]\n",
    "                #else prim(df,output,variable_names,population=0.25,peeling=0.005,pasting=0.001)\n",
    "            elif df[output].mean()<df[df[which_variable]<(1-3*peeling)*(df[which_variable].max())][output].mean(): \n",
    "                df=df[df[which_variable]<(1-3*peeling)*(df[which_variable].max())]\n",
    "            else:\n",
    "                break\n",
    "                \n",
    "    lower_bound=df[variable_names].min(axis=0)\n",
    "    upper_bound=df[variable_names].max(axis=0)\n",
    "    \n",
    "        \n",
    "    #return(df[variable_names],df[output],new_mean,df[output].mean(),df.shape[0],number_points,lower_bound,upper_bound) \n",
    "    return(lower_bound,upper_bound) \n",
    "        "
   ]
  },
  {
   "cell_type": "code",
   "execution_count": 182,
   "metadata": {},
   "outputs": [],
   "source": [
    "def prim(df,output,variable_names,population=0.1,peeling=0.0005,pasting=0.001):\n",
    "    X=df[variable_names]\n",
    "    new_mean=df[output].mean()\n",
    "    number_points=df.shape[0]\n",
    "    list_peeled=[]\n",
    "    dataset=[]\n",
    "    \n",
    "    while population<df.shape[0]/number_points:\n",
    "        box_average=[]\n",
    "        for var in list(X):\n",
    "            box_average.append(df[df[var]>(1+peeling*(df[var].max()-df[var].min()))*(df[var].min())][output].mean()) #add all the means regarding the varible being peeled\n",
    "            box_average.append(df[df[var]<(1-peeling)*(df[var].max()-df[var].min())][output].mean())\n",
    "        \n",
    "        i=box_average.index(max(box_average))   #pick the best\n",
    "        which_variable=list(X)[i//2]\n",
    "        list_peeled.append(which_variable)\n",
    "        \n",
    "        if i%2==1:\n",
    "            if df[output].mean()<df[df[which_variable]<(1-peeling*(df[which_variable].max()-(df[which_variable].min())))*(df[which_variable].max())][output].mean(): \n",
    "                df=df[df[which_variable]<(1-peeling*(df[which_variable].max()-(df[which_variable].min())))*(df[which_variable].max())]\n",
    "                dataset.append(df)\n",
    "            #else prim(df,output,variable_names,population=0.25,peeling=0.005,pasting=0.001)\n",
    "            elif df[output].mean()<df[df[which_variable]<(1-3*peeling*(df[which_variable].max()-(df[which_variable].min())))*(df[which_variable].max())][output].mean(): \n",
    "                df=df[df[which_variable]<(1-3*peeling*(df[which_variable].max()-(df[which_variable].min())))*(df[which_variable].max())]\n",
    "                dataset.append(df)\n",
    "            else:\n",
    "                break\n",
    "        \n",
    "        else:\n",
    "            if df[output].mean()<df[df[which_variable]>(1+peeling*(df[which_variable].max()-(df[which_variable].min())))*(df[which_variable].min())][output].mean(): \n",
    "                df=df[df[which_variable]>(1+peeling*(df[which_variable].max()-(df[which_variable].min())))*(df[which_variable].min())]\n",
    "                dataset.append(df)\n",
    "            #else prim(df,output,variable_names,population=0.25,peeling=0.005,pasting=0.001)\n",
    "            elif df[output].mean()<df[df[which_variable]>(1+3*peeling*(df[which_variable].max()-(df[which_variable].min())))*(df[which_variable].max())][output].mean(): \n",
    "                df=df[df[which_variable]>(1+3*peeling*(df[which_variable].max()-(df[which_variable].min())))*(df[which_variable].min())]\n",
    "                dataset.append(df)\n",
    "            else:\n",
    "                break\n",
    "    \n",
    "    \n",
    "    #dernier df de la liste (peel more or less)\n",
    "    if 1.1*population<df[output].shape[0]/number_points:\n",
    "        while 1.1*population<df.shape[0]/number_points:\n",
    "            box_average=[]\n",
    "            for var in list(X):\n",
    "                box_average.append(df[df[var]>(1+10*peeling*(df[var].max()-df[var].min()))*(df[var].min())][output].mean()) #add all the means regarding the varible being peeled\n",
    "                box_average.append(df[df[var]<(1-10*peeling)*(df[var].max()-df[var].min())][output].mean())\n",
    "        \n",
    "            i=box_average.index(max(box_average))   #pick the best\n",
    "            which_variable=list(X)[i//2]\n",
    "            list_peeled.append(which_variable)\n",
    "        \n",
    "            if i%2==1:\n",
    "                if df[output].mean()<df[df[which_variable]<(1-10*peeling*(df[which_variable].max()-(df[which_variable].min())))*(df[which_variable].max())][output].mean(): \n",
    "                    df=df[df[which_variable]<(1-10*peeling*(df[which_variable].max()-(df[which_variable].min())))*(df[which_variable].max())]\n",
    "                    dataset.append(df)\n",
    "                #else prim(df,output,variable_names,population=0.25,peeling=0.005,pasting=0.001)\n",
    "                elif df[output].mean()<df[df[which_variable]<(1-20*peeling*(df[which_variable].max()-(df[which_variable].min())))*(df[which_variable].max())][output].mean(): \n",
    "                    df=df[df[which_variable]<(1-20*peeling*(df[which_variable].max()-(df[which_variable].min())))*(df[which_variable].max())]\n",
    "                    dataset.append(df)\n",
    "                else:\n",
    "                    break\n",
    "        \n",
    "            else:\n",
    "                if df[output].mean()<df[df[which_variable]>(1+10*peeling*(df[which_variable].max()-(df[which_variable].min())))*(df[which_variable].min())][output].mean(): \n",
    "                    df=df[df[which_variable]>(1+10*peeling*(df[which_variable].max()-(df[which_variable].min())))*(df[which_variable].min())]\n",
    "                    dataset.append(df)\n",
    "            #else prim(df,output,variable_names,population=0.25,peeling=0.005,pasting=0.001)\n",
    "                elif df[output].mean()<df[df[which_variable]>(1+30*peeling*(df[which_variable].max()-(df[which_variable].min())))*(df[which_variable].max())][output].mean(): \n",
    "                    df=df[df[which_variable]>(1+30*peeling*(df[which_variable].max()-(df[which_variable].min())))*(df[which_variable].min())]\n",
    "                    dataset.append(df)\n",
    "                else:\n",
    "                    break\n",
    "        \n",
    "        \n",
    "    if (len(dataset)>1 and population>dataset[-1][output].shape[0]/number_points):\n",
    "        df=dataset[-2]\n",
    "        \n",
    "        \n",
    "        \n",
    "        \n",
    "                \n",
    "    lower_bound=df[variable_names].min(axis=0)\n",
    "    upper_bound=df[variable_names].max(axis=0)\n",
    "    \n",
    "        \n",
    "    #return(list_peeled,new_mean,df[output].mean(),df.shape[0],number_points) \n",
    "    return(lower_bound,upper_bound) \n",
    "        "
   ]
  },
  {
   "cell_type": "code",
   "execution_count": 183,
   "metadata": {},
   "outputs": [],
   "source": [
    "a=[].append(2)\n",
    "a"
   ]
  },
  {
   "cell_type": "code",
   "execution_count": 193,
   "metadata": {},
   "outputs": [
    {
     "data": {
      "text/plain": [
       "(['afterwork', 'summer', 'workingday', 'holiday', 'holiday'],\n",
       " 191.57413191254824,\n",
       " 517.2025316455696,\n",
       " 316,\n",
       " 10886)"
      ]
     },
     "execution_count": 193,
     "metadata": {},
     "output_type": "execute_result"
    }
   ],
   "source": [
    "prim(data,\"count\",[\n",
    " 'holiday',\n",
    " 'workingday',\n",
    " 'temp',\n",
    " 'atemp',\n",
    " 'humidity',\n",
    " 'windspeed',\n",
    " 'night',\n",
    " 'morning',\n",
    " 'afternoon',\n",
    " 'afterwork',\n",
    " 'evening',\n",
    " 'winter',\n",
    " 'spring',\n",
    " 'summer',\n",
    " 'autumn',\n",
    " 'dayofweek',\n",
    " 'beau_temps',\n",
    " 'nuageux',\n",
    " 'pluie_neige',\n",
    " 'mauvais_temps',\n",
    " 'timediff',\n",
    " ],population=0.01,peeling=0.0002)"
   ]
  },
  {
   "cell_type": "code",
   "execution_count": 163,
   "metadata": {},
   "outputs": [],
   "source": [
    "l, u = prim(data,\"test slabs\",[\"Température eau 1\",\"Température eau 2\"])"
   ]
  },
  {
   "cell_type": "code",
   "execution_count": 164,
   "metadata": {},
   "outputs": [
    {
     "data": {
      "text/plain": [
       "<matplotlib.legend.Legend at 0x2841eb903c8>"
      ]
     },
     "execution_count": 164,
     "metadata": {},
     "output_type": "execute_result"
    },
    {
     "data": {
      "image/png": "[encoded data removed]",
      "text/plain": [
       "<matplotlib.figure.Figure at 0x2841da5bbe0>"
      ]
     },
     "metadata": {},
     "output_type": "display_data"
    }
   ],
   "source": [
    "data0 = data[data['test slabs'] == 0]\n",
    "data1 = data[data['test slabs'] == 1]\n",
    "\n",
    "\n",
    "plt.scatter(data1[\"Température eau 1\"], data1[\"Température eau 2\"], label='1', marker='o', color='blue')\n",
    "plt.scatter(data0[\"Température eau 1\"], data0[\"Température eau 2\"], label='0', marker='o', color='red')\n",
    "plt.plot([l[0], l[0]], [20, 40])\n",
    "plt.plot([20, 40], [u[0], u[0]])\n",
    "plt.plot([u[1], u[1]], [20, 40])\n",
    "plt.plot([20, 40], [l[1], l[1]])\n",
    "plt.xlim(29, 39)\n",
    "plt.ylim(29, 39)\n",
    "plt.xlabel('x1')\n",
    "plt.ylabel('x2')\n",
    "plt.legend()"
   ]
  },
  {
   "cell_type": "code",
   "execution_count": 81,
   "metadata": {},
   "outputs": [
    {
     "data": {
      "text/plain": [
       "['Nº Hoja de recogida',\n",
       " 'X69_Opérateur',\n",
       " 'X52_fecha hora moldeo',\n",
       " 'X55_Nº de huella',\n",
       " 'X58_Humedad en tolva',\n",
       " 'X4_Velocidad de inyección',\n",
       " 'X16_Postpresión',\n",
       " \"X22'_Fecha fabricación mezcla\",\n",
       " 'X25_CP : Carga a la rotura (Mpa) > 8.5',\n",
       " 'X26_CP : Alargamiento a la rotura (%) >350',\n",
       " 'X50_CP : Humedad (%)',\n",
       " 'X17_CP : Viscosidad (Pa*s)',\n",
       " 'X6_CR : Carga a la rotura (Mpa) > 8.5',\n",
       " 'X2_CR : Alargamiento a la rotura (%)',\n",
       " 'X20_CR : Modulo20',\n",
       " 'X21_CR : Modulo100',\n",
       " 'X24_CR : Modulo200',\n",
       " 'X53_CR : humedad',\n",
       " 'X28_CR : Viscosidad',\n",
       " 'X5_Tasa de methylol de la resina (%)',\n",
       " 'X61_Viscosidad del PP mezcla (g/10 min)',\n",
       " 'X35_Fecha de caducidad',\n",
       " 'X42_Tº secado entrada',\n",
       " \"X42'_Tº secado salida\",\n",
       " 'X30_Indice de fluidez',\n",
       " 'X60_Carrera de dosificación',\n",
       " 'X57_Tiempo de dosificación',\n",
       " 'X54_Contrapresíon',\n",
       " 'X3_Tiempo inyección',\n",
       " 'X29_Presión inyección',\n",
       " 'X31_Volumen inyectado',\n",
       " 'X15_Tiempo de postpresion',\n",
       " 'X45_Cojin',\n",
       " 'X64_Fuerza de cierre',\n",
       " 'X66_Tiempo expulsión',\n",
       " 'X67_Posición comutación',\n",
       " 'X72_Temperarura agua H31x',\n",
       " 'X73_Temperarura agua H32x',\n",
       " 'Température eau 1',\n",
       " 'Température eau 2',\n",
       " 'lot de mélanges',\n",
       " 'test slabs',\n",
       " 'temps entre la fab et la prod',\n",
       " 'nb jrs entre la fab et la moulage',\n",
       " 'PostPression binaire',\n",
       " 'Jour moulage']"
      ]
     },
     "execution_count": 81,
     "metadata": {},
     "output_type": "execute_result"
    }
   ],
   "source": [
    "data.columns.tolist()"
   ]
  },
  {
   "cell_type": "code",
   "execution_count": 17,
   "metadata": {},
   "outputs": [],
   "source": [
    "new_mean=data[\"test slabs\"].mean()"
   ]
  },
  {
   "cell_type": "code",
   "execution_count": 19,
   "metadata": {
    "collapsed": true
   },
   "outputs": [],
   "source": [
    "number_points=data.shape[0]\n",
    "box_average=[]"
   ]
  },
  {
   "cell_type": "code",
   "execution_count": 22,
   "metadata": {},
   "outputs": [
    {
     "data": {
      "text/plain": [
       "'Température eau 1'"
      ]
     },
     "execution_count": 22,
     "metadata": {},
     "output_type": "execute_result"
    }
   ],
   "source": [
    "list(X)[1]"
   ]
  },
  {
   "cell_type": "code",
   "execution_count": null,
   "metadata": {
    "collapsed": true
   },
   "outputs": [],
   "source": [
    "while 0.25<df.shape[0]/number_points:\n",
    "    for var in list(X):\n",
    "        box_average.append(df[df[var]<(1-peeling)*(df[var].max())][output].mean())\n",
    "        i=box_average.index(max(box_average))\n",
    "            \n",
    "        which_variable=list(X)[i]\n",
    "        \n",
    "        df=df[df[which_variable]<(1-peeling)*(df[which_variable].max())]"
   ]
  },
  {
   "cell_type": "markdown",
   "metadata": {},
   "source": [
    "## essai git"
   ]
  },
  {
   "cell_type": "code",
   "execution_count": 1,
   "metadata": {
    "ExecuteTime": {
     "end_time": "2018-01-09T10:52:26.739325Z",
     "start_time": "2018-01-09T10:52:26.719325Z"
    }
   },
   "outputs": [
    {
     "data": {
      "text/plain": [
       "4"
      ]
     },
     "execution_count": 1,
     "metadata": {},
     "output_type": "execute_result"
    }
   ],
   "source": [
    "2+2"
   ]
  },
  {
   "cell_type": "code",
   "execution_count": null,
   "metadata": {
    "collapsed": true
   },
   "outputs": [],
   "source": []
  }
 ],
 "metadata": {
  "anaconda-cloud": {},
  "hide_input": false,
  "kernelspec": {
   "display_name": "Python 3",
   "language": "python",
   "name": "python3"
  },
  "language_info": {
   "codemirror_mode": {
    "name": "ipython",
    "version": 3
   },
   "file_extension": ".py",
   "mimetype": "text/x-python",
   "name": "python",
   "nbconvert_exporter": "python",
   "pygments_lexer": "ipython3",
   "version": "3.6.3"
  },
  "toc": {
   "nav_menu": {},
   "number_sections": true,
   "sideBar": true,
   "skip_h1_title": false,
   "toc_cell": true,
   "toc_position": {},
   "toc_section_display": "block",
   "toc_window_display": true
  }
 },
 "nbformat": 4,
 "nbformat_minor": 1
}
